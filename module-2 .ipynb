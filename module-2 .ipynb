{
 "cells": [
  {
   "cell_type": "code",
   "execution_count": null,
   "id": "e328bc3c",
   "metadata": {},
   "outputs": [],
   "source": [
    "#Q-1  Write a Python program to check if a number is positive, negative or zero.\n",
    "\n",
    "n = float (input ())\n",
    "\n",
    "if n > 0:\n",
    "    print ('The number provided is positive')\n",
    "\n",
    "elif n == 0:          \n",
    "    print ('The number input is zero')\n",
    "\n",
    "else:\n",
    "    print ('The number provided is negative')\n"
   ]
  },
  {
   "cell_type": "code",
   "execution_count": null,
   "id": "8a49f850",
   "metadata": {},
   "outputs": [],
   "source": [
    "#Q-2 Write a Python program to get the Factorial number of given number.\n",
    "\n",
    "\n",
    "n = int (input ('Enter a number: '))\n",
    "\n",
    "factorial = 1\n",
    "\n",
    "if n >= 1:\n",
    "\n",
    "              for i in range (1, n+1):\n",
    "\n",
    "                             factorial = factorial *i\n",
    "\n",
    "print ('Factorial of the given number is: ', factorial)"
   ]
  },
  {
   "cell_type": "code",
   "execution_count": null,
   "id": "765e56cc",
   "metadata": {},
   "outputs": [],
   "source": [
    "#Q-3 Write a Python program to get the Fibonacci series of given range.\n",
    "\n",
    "num = int(input(\"Enter any number : \"))\n",
    "n1, n2= 0, 1\n",
    "Sum=0\n",
    "if num<=0:\n",
    "    print('Please enter number greater than 0')\n",
    "else:\n",
    "    for i in range(0,num):\n",
    "        print(Sum,end=\" \")\n",
    "        n1=n2\n",
    "        n2=Sum\n",
    "        Sum=n1+n2\n",
    "        print()\n",
    "       \n",
    "        "
   ]
  },
  {
   "cell_type": "code",
   "execution_count": null,
   "id": "cc505713",
   "metadata": {},
   "outputs": [],
   "source": [
    "#Q-4 How memory is managed in Python?\n",
    "# A-Memory management in Python involves a private heap containing all Python objects and data structures.\n",
    "#  Interpreter takes care of Python heap and that the programmer has no access to it.\n",
    "#- The allocation of heap space for Python objects is done by Python memory manager.\n",
    "#  The core API of Python provides some tools for the programmer to code reliable and more robust program.\n",
    "#- Python also has a build-in garbage collector which recycles all the unused memory.\n",
    "#  When an object is no longer referenced by the program, the heap space it occupies can be freed. \n",
    "#- The garbage collector determines objects which are no longer referenced by the sprogram frees\n",
    "#  the occupied memory and make it available to the heap space."
   ]
  },
  {
   "cell_type": "code",
   "execution_count": null,
   "id": "eb23857e",
   "metadata": {},
   "outputs": [],
   "source": [
    "#Q-5 What is the purpose continue statement in python?\n",
    "# A-Loops in Python automates and repeats the tasks in an efficient manner.\n",
    "#   But sometimes, there may arise a condition where you want to exit the loop completely,\n",
    "#   skip an iteration or ignore that condition. These can be done by loop control statements. \n",
    "#   Continue is a type of loop control statement that can alter the flow of the loop. "
   ]
  },
  {
   "cell_type": "code",
   "execution_count": null,
   "id": "14c02a8b",
   "metadata": {},
   "outputs": [],
   "source": [
    "#Q-6 Write python program that swap two number with temp variable and without temp variable.\n",
    "# A-Write python program that swap two number with temp variable:-\n",
    "a=5\n",
    "b=6\n",
    "\n",
    "temp=a\n",
    "a=b\n",
    "b=temp\n",
    "\n",
    "print(a)\n",
    "print(b)"
   ]
  },
  {
   "cell_type": "code",
   "execution_count": null,
   "id": "040baed8",
   "metadata": {},
   "outputs": [],
   "source": [
    "# Write python program that swap two number without temp variable.\n",
    "# A-\n",
    "\n",
    "a=5\n",
    "b=6\n",
    "\n",
    "a , b = b , a\n",
    "\n",
    "print(a)\n",
    "print(b)"
   ]
  },
  {
   "cell_type": "code",
   "execution_count": null,
   "id": "cc502ffd",
   "metadata": {},
   "outputs": [],
   "source": [
    "#Q-7 Write a Python program to find whether a given number is even or odd, print out an appropriate message to the user.\n",
    "\n",
    "num = int(input(\"Enter a number: \"))\n",
    "if (num % 2) == 0:\n",
    "    print(\"{0} is Even\".format(num))\n",
    "else:\n",
    "    print(\"{0} is Odd\".format(num))"
   ]
  },
  {
   "cell_type": "code",
   "execution_count": null,
   "id": "445f0d7d",
   "metadata": {},
   "outputs": [],
   "source": [
    "#Q-8 Write a Python program to test whether a passed letter is a vowel or not.\n",
    "x=input('Enter a sentence:')\n",
    "count = 0\n",
    "for i in x:\n",
    "    if i.lower()=='a' or i.lower()=='e' or i.lower()=='i' or i.lower()=='o' or i.lower()=='u':\n",
    "        print(i)\n",
    "        count=count+1\n",
    "if count==0:\n",
    "    print('no vowel found')\n",
    "else:\n",
    "    print('number of vowels:',count)\n"
   ]
  },
  {
   "cell_type": "code",
   "execution_count": null,
   "id": "1094d7b6",
   "metadata": {},
   "outputs": [],
   "source": [
    "#Q-9 Write a Python program to sum of three given integers.However, if two values are equal sum will be zero.\n",
    "x=int(input())\n",
    "y=int(input())\n",
    "z=int(input())\n",
    "a=x+y+z\n",
    "for i in x,y,z:\n",
    "    if x==y or y==z or z==x:\n",
    "        print(0)\n",
    "    else:\n",
    "        print(a)\n",
    "                        \n",
    "        "
   ]
  },
  {
   "cell_type": "code",
   "execution_count": null,
   "id": "70e7d55b",
   "metadata": {},
   "outputs": [],
   "source": [
    "#Q-10 Write a Python program that will return true ifthe two given integervalues are equal or their sum or difference is 5.\n",
    "x=int(input())\n",
    "y=int(input())\n",
    "for i in (x,y):\n",
    "    if x==y or abs(x-y)==5 or (x+y)==5:\n",
    "        print('true')\n",
    "    else:\n",
    "        print('false')\n",
    "print()        "
   ]
  },
  {
   "cell_type": "code",
   "execution_count": null,
   "id": "c04e3047",
   "metadata": {},
   "outputs": [],
   "source": [
    "#Q-11 Write a python program to sum of the first n positive integers.\n",
    "n=int(input('enter number:'))\n",
    "sum=(n*(n+1))/2\n",
    "print(sum)\n",
    "\n"
   ]
  },
  {
   "cell_type": "code",
   "execution_count": null,
   "id": "b176b458",
   "metadata": {},
   "outputs": [],
   "source": [
    "#Q-12 Write a Python program to calculate the length of a string.\n",
    "str1=input()\n",
    "def string(str1):\n",
    "    count=0\n",
    "    for char in str1:\n",
    "        count+=1\n",
    "    return count\n",
    "print(string(str1))\n"
   ]
  },
  {
   "cell_type": "code",
   "execution_count": null,
   "id": "b8450e8c",
   "metadata": {},
   "outputs": [],
   "source": [
    "#Q-13 Write a Python program to count the number of characters (character frequency) in a string.\n",
    "x=input('Enter the string : ')\n",
    "c=x.count(input())\n",
    "print(c)"
   ]
  },
  {
   "cell_type": "code",
   "execution_count": null,
   "id": "dc78792b",
   "metadata": {},
   "outputs": [],
   "source": [
    "#Q-14 What are negative indexes and why are they used?\n",
    "# A- To access an element from ordered sequences, we simply use the index of the element,\n",
    "#  which is the number of the position of that element. \n",
    "#  The index usually starts from 0, meaning that the first element has the index 0 and the second has 1, and so on.\n",
    "#  When we use the index to access elements from the end of a list, it’s called reverse indexing. \n",
    "#  In reverse indexing, the indexing of elements start from the last element with the index number being ‘−1’.\n",
    "#  The second last element has the index ‘−2’, and so on. These indexes used in reverse indexing are called negative indexes.\n",
    "\n",
    "# Negative indexes are used for: Removing any new-line spaces from the string, \n",
    "# thus allowing the string to except the last character, represented as S [:-1] Showing the index to representing \n",
    "# the string in the correct order"
   ]
  },
  {
   "cell_type": "code",
   "execution_count": null,
   "id": "5a7a9ef4",
   "metadata": {},
   "outputs": [],
   "source": [
    "#Q-15 Write a Python program to count occurrences of a substring in a string.\n",
    "x=input()\n",
    "count=0\n",
    "for i in range(len(x)):\n",
    "    print(x[i:i+1])"
   ]
  },
  {
   "cell_type": "code",
   "execution_count": null,
   "id": "15663213",
   "metadata": {},
   "outputs": [],
   "source": [
    "#Q-16 Write a Python program to count the occurrences of each word in a given sentence.\n",
    "str = input(\"Enter the sentence\")\n",
    "str = str.split()\n",
    "i=0\n",
    "count=0\n",
    "while i<len(str):\n",
    "    count=0\n",
    "    for j in str:\n",
    "        if str[i]==j:\n",
    "            count=count+1\n",
    "    print(str[i],\"Preesent\",count,\"Times\")\n",
    "    \n",
    "    i=i+1"
   ]
  },
  {
   "cell_type": "code",
   "execution_count": null,
   "id": "7d2412a5",
   "metadata": {},
   "outputs": [],
   "source": [
    "#Q-17 Write a Python program to get a single string from two given strings, separated by a space and\n",
    "#     swap the first two characters of each string.\n",
    "\n",
    "s1 = input(\"Enter your first string: \")\n",
    "s2 = input(\"Enter your second string: \")\n",
    "output=\" \"\n",
    "i=j=0\n",
    "while i<len(s1) or j<len(s2):\n",
    "    if i<len(s1):\n",
    "        output=output+s1[i]\n",
    "        i+=1\n",
    "    if j<len(s2):\n",
    "        output=output+s2[j]\n",
    "        j+=1\n",
    "print(output)"
   ]
  },
  {
   "cell_type": "code",
   "execution_count": null,
   "id": "79a28212",
   "metadata": {},
   "outputs": [],
   "source": [
    "#Q-18 Write a Python program to add 'ing' at the end of a given string (length should be at least 3).\n",
    "#If the given string already ends with 'ing' then add 'ly' insteadif the string length of the given string is less than 3, \n",
    "#leave it unchanged.\n",
    "s=input('Enter a charecter : ')\n",
    "if len(s)>2:\n",
    "    if s.endswith('ing'):\n",
    "        s+='ly'\n",
    "    else:\n",
    "        s+='ing'\n",
    "print(s)        \n"
   ]
  },
  {
   "cell_type": "code",
   "execution_count": null,
   "id": "b811e680",
   "metadata": {},
   "outputs": [],
   "source": [
    "#Q-19 Write a Python program to find the first appearance of the substring 'not' and 'poor' froma given string, if 'not' follows\n",
    "#the 'poor', replace the whole 'not'...'poor'substring with 'good'. Return the resulting string.\n",
    "string_input = input()\n",
    "not_word = string_input.find('not')\n",
    "poor_word = string_input.find('poor')\n",
    "if not_word < poor_word:\n",
    "    new_string = string_input.replace(string_input[not_word:(poor_word + 4)],'good')\n",
    "    print(new_string)\n"
   ]
  },
  {
   "cell_type": "code",
   "execution_count": null,
   "id": "76d6da85",
   "metadata": {},
   "outputs": [],
   "source": [
    "#Q-20 Write a Python function that takes a list of words and returns the length of the longest one.\n",
    "def find_longest_word(words_list):\n",
    "    word_len=[]\n",
    "    for n in words_list:\n",
    "        word_len.append((len(n),n))\n",
    "    word_len.sort()\n",
    "    return word_len[-1][1]\n",
    "print(find_longest_word([\"PHP\",\"Exercises\",\"backend\"]))"
   ]
  },
  {
   "cell_type": "code",
   "execution_count": null,
   "id": "b96caa9f",
   "metadata": {},
   "outputs": [],
   "source": [
    "#Q-21 Write a Python function to reverses a string if its length is a multiple of 4.\n",
    "string_input=input()\n",
    "if (len(string_input)%4==0):\n",
    "    for i in string_input[::-1]:\n",
    "        new_string=i\n",
    "        print(new_string,end='')\n"
   ]
  },
  {
   "cell_type": "code",
   "execution_count": null,
   "id": "e7dd5b06",
   "metadata": {},
   "outputs": [],
   "source": [
    "#Q-22Write a Python program to get a string made of the first 2 and the last 2\n",
    "# chars from a given a string. Ifthe string length islessthan 2,return instead\n",
    "# of the empty string.\n",
    "# Sample String:w3resource'\n",
    "# Expected Result: 'w3ce'\n",
    "# Sample String: 'w3'\n",
    "# Expected Result: 'w3w3'\n",
    "# Sample String: ' w'\n",
    "# Expected Result: Empty String\n",
    "\n",
    "string_input=input()\n",
    "if len(string_input)>4:\n",
    "    expected_string=string_input[0:2]+string_input[-2:]\n",
    "    print(expected_string)\n",
    "elif len(string_input)==2:\n",
    "    print(string_input+string_input)\n",
    "elif len(string_input)==1:\n",
    "    print(\"empty string\")"
   ]
  },
  {
   "cell_type": "code",
   "execution_count": null,
   "id": "c7337243",
   "metadata": {},
   "outputs": [],
   "source": [
    "#Q-23 Write a Python function to insert a string in the middle of a string.\n",
    "string_input = input()\n",
    "when_wants_add = input()\n",
    "add_string = input()\n",
    "index_of_string = string_input.find(when_wants_add)\n",
    "new_string = string_input[:index_of_string] + add_string + string_input[index_of_string:]\n",
    "print(new_string)"
   ]
  }
 ],
 "metadata": {
  "kernelspec": {
   "display_name": "Python 3 (ipykernel)",
   "language": "python",
   "name": "python3"
  },
  "language_info": {
   "codemirror_mode": {
    "name": "ipython",
    "version": 3
   },
   "file_extension": ".py",
   "mimetype": "text/x-python",
   "name": "python",
   "nbconvert_exporter": "python",
   "pygments_lexer": "ipython3",
   "version": "3.9.12"
  }
 },
 "nbformat": 4,
 "nbformat_minor": 5
}
