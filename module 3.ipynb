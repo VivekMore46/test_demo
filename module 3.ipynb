{
 "cells": [
  {
   "cell_type": "code",
   "execution_count": null,
   "id": "6966fc44",
   "metadata": {},
   "outputs": [],
   "source": [
    "# Q-1 What is List? How will you reverse a list?\n",
    "# A- A list is a data structure in Python that is a mutable,\n",
    "#    or changeable, ordered sequence of elements.\n",
    "#    Each element or value that is inside of a list is called an item.\n",
    "#    using the reverse() Method we can reverse the list."
   ]
  },
  {
   "cell_type": "code",
   "execution_count": null,
   "id": "a18d36a1",
   "metadata": {},
   "outputs": [],
   "source": [
    "# Q-2 How will you remove last object from a list?\n",
    "# A- Using list.pop() function\n",
    "#    The simplest approach is to use the list’s pop([i]) function,\n",
    "#    which removes an element present at the specified position in the list. \n",
    "#    If we don’t specify any index, pop() removes and returns the last element\n",
    "#    in the list."
   ]
  },
  {
   "cell_type": "code",
   "execution_count": null,
   "id": "d298f8e5",
   "metadata": {},
   "outputs": [],
   "source": [
    "# Q-3 Suppose list1 is [2, 33, 222, 14, and 25], what is list1 [-1]?\n",
    "# A- and 25"
   ]
  },
  {
   "cell_type": "code",
   "execution_count": null,
   "id": "ebd98351",
   "metadata": {},
   "outputs": [],
   "source": [
    "# Q-4 Differentiate between append () and extend () methods?\n",
    "# A-              append                               extend\n",
    "#   -> The append method will add an   -> The extend method will extend the list\n",
    "#      item to the end of he list.        by appending all the items from the\n",
    "#                                         iterable.\n",
    "#   -> The length of the list will     -> The length of the list will be \n",
    "#      be increased by 1.                 increased depends on the length of \n",
    "#                                         the iterable.\n",
    "#   -> It will update the original     -> It will update the original list    \n",
    "#      list itself.                       itself."
   ]
  },
  {
   "cell_type": "code",
   "execution_count": null,
   "id": "ffd8da67",
   "metadata": {},
   "outputs": [],
   "source": [
    "# Q-5 Write a Python function to get the largest number, smallest num and sum \n",
    "#     of all from a list.\n",
    "number=input()\n",
    "def sum(number):\n",
    "    total=0\n",
    "#highest=max(number)\n",
    "#lowest=min(number)\n",
    "    for i in number:\n",
    "        total += i\n",
    "    return total    \n",
    "print(sum.number)  \n",
    "#print(\"Highest number is\",highest)\n",
    "#print(\"lowest number is\",lowest)\n",
    "    "
   ]
  },
  {
   "cell_type": "code",
   "execution_count": 2,
   "id": "609575b3",
   "metadata": {},
   "outputs": [
    {
     "name": "stdout",
     "output_type": "stream",
     "text": [
      "1,2,3,4,5\n"
     ]
    },
    {
     "ename": "ValueError",
     "evalue": "invalid literal for int() with base 10: '1,2,3,4,5'",
     "output_type": "error",
     "traceback": [
      "\u001b[1;31m---------------------------------------------------------------------------\u001b[0m",
      "\u001b[1;31mValueError\u001b[0m                                Traceback (most recent call last)",
      "Input \u001b[1;32mIn [2]\u001b[0m, in \u001b[0;36m<cell line: 1>\u001b[1;34m()\u001b[0m\n\u001b[1;32m----> 1\u001b[0m n\u001b[38;5;241m=\u001b[39m\u001b[38;5;28;43mint\u001b[39;49m\u001b[43m(\u001b[49m\u001b[38;5;28;43minput\u001b[39;49m\u001b[43m(\u001b[49m\u001b[43m)\u001b[49m\u001b[43m)\u001b[49m\n\u001b[0;32m      2\u001b[0m list1\u001b[38;5;241m=\u001b[39m[]\n\u001b[0;32m      3\u001b[0m \u001b[38;5;28;01mfor\u001b[39;00m i \u001b[38;5;129;01min\u001b[39;00m \u001b[38;5;28mrange\u001b[39m (n):\n",
      "\u001b[1;31mValueError\u001b[0m: invalid literal for int() with base 10: '1,2,3,4,5'"
     ]
    }
   ],
   "source": [
    "n=int(input())\n",
    "list1=[]\n",
    "for i in range(n):\n",
    "    list1.append(int(input()))\n",
    "sum_list1=0\n",
    "for i in list1:\n",
    "    sum_list1 = sum_list1 + i\n",
    "    \n",
    "print(sum_list1)    "
   ]
  },
  {
   "cell_type": "code",
   "execution_count": null,
   "id": "e022e670",
   "metadata": {},
   "outputs": [],
   "source": [
    "# Q-6 How will you compare two lists?\n",
    "# A- The list.sort() method sorts the two lists and the == operator compares\n",
    "#    the two lists item by item which means they have equal data items at\n",
    "#    equal positions. This checks if the list contains equal data item values\n",
    "#    but it does not take into account the order of elements in the list. \n",
    "#    This means that the list [1,2,3] will be equal to the list [2,1,3]\n",
    "#    according to this method of comparison."
   ]
  },
  {
   "cell_type": "code",
   "execution_count": null,
   "id": "d1a31667",
   "metadata": {},
   "outputs": [],
   "source": []
  }
 ],
 "metadata": {
  "kernelspec": {
   "display_name": "Python 3 (ipykernel)",
   "language": "python",
   "name": "python3"
  },
  "language_info": {
   "codemirror_mode": {
    "name": "ipython",
    "version": 3
   },
   "file_extension": ".py",
   "mimetype": "text/x-python",
   "name": "python",
   "nbconvert_exporter": "python",
   "pygments_lexer": "ipython3",
   "version": "3.9.12"
  }
 },
 "nbformat": 4,
 "nbformat_minor": 5
}
