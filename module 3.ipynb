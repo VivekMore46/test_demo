{
 "cells": [
  {
   "cell_type": "code",
   "execution_count": null,
   "id": "6966fc44",
   "metadata": {},
   "outputs": [],
   "source": [
    "# Q-1 What is List? How will you reverse a list?\n",
    "# A- A list is a data structure in Python that is a mutable,\n",
    "#    or changeable, ordered sequence of elements.\n",
    "#    Each element or value that is inside of a list is called an item.\n",
    "#    using the reverse() Method we can reverse the list."
   ]
  },
  {
   "cell_type": "code",
   "execution_count": null,
   "id": "a18d36a1",
   "metadata": {},
   "outputs": [],
   "source": [
    "# Q-2 How will you remove last object from a list?\n",
    "# A- Using list.pop() function\n",
    "#    The simplest approach is to use the list’s pop([i]) function,\n",
    "#    which removes an element present at the specified position in the list. \n",
    "#    If we don’t specify any index, pop() removes and returns the last element\n",
    "#    in the list."
   ]
  },
  {
   "cell_type": "code",
   "execution_count": null,
   "id": "d298f8e5",
   "metadata": {},
   "outputs": [],
   "source": [
    "# Q-3 Suppose list1 is [2, 33, 222, 14, and 25], what is list1 [-1]?\n",
    "# A- and 25"
   ]
  },
  {
   "cell_type": "code",
   "execution_count": null,
   "id": "ebd98351",
   "metadata": {},
   "outputs": [],
   "source": [
    "# Q-4 Differentiate between append () and extend () methods?\n",
    "# A-              append                               extend\n",
    "#   -> The append method will add an   -> The extend method will extend the list\n",
    "#      item to the end of he list.        by appending all the items from the\n",
    "#                                         iterable.\n",
    "#   -> The length of the list will     -> The length of the list will be \n",
    "#      be increased by 1.                 increased depends on the length of \n",
    "#                                         the iterable.\n",
    "#   -> It will update the original     -> It will update the original list    \n",
    "#      list itself.                       itself."
   ]
  },
  {
   "cell_type": "code",
   "execution_count": null,
   "id": "ffd8da67",
   "metadata": {},
   "outputs": [],
   "source": [
    "# Q-5 Write a Python function to get the largest number, smallest num and sum \n",
    "#     of all from a list.\n",
    "num = [1,2,3,4,5,6,7,8]\n",
    "total=sum(num)\n",
    "print('Minimum number is :',str(min(num)))\n",
    "print('Maximum number is :',str(max(num)))\n",
    "print('Sum is:',total)"
   ]
  },
  {
   "cell_type": "code",
   "execution_count": null,
   "id": "e022e670",
   "metadata": {},
   "outputs": [],
   "source": [
    "print# Q-6 How will you compare two lists?\n",
    "# A- The list.sort() method sorts the two lists and the == operator compares\n",
    "#    the two lists item by item which means they have equal data items at\n",
    "#    equal positions. This checks if the list contains equal data item values\n",
    "#    but it does not take into account the order of elements in the list. \n",
    "#    This means that the list [1,2,3] will be equal to the list [2,1,3]\n",
    "#    according to this method of comparison."
   ]
  },
  {
   "cell_type": "code",
   "execution_count": null,
   "id": "d1a31667",
   "metadata": {},
   "outputs": [],
   "source": [
    "# Q-7 Write a Python program to count the number of strings where the string \n",
    "# length is 2 or more and the first and last character are same from a given \n",
    "# list of strings.\n",
    "def match_words(words):\n",
    "    ctr = 0\n",
    "\n",
    "    for word in words:\n",
    "        if len(word) > 1 and word[0] == word[-1]:\n",
    "            ctr += 1\n",
    "    return ctr\n",
    "\n",
    "print(match_words(['abc', 'xyy', 'aba', '1221']))\n"
   ]
  },
  {
   "cell_type": "code",
   "execution_count": null,
   "id": "09cb7ed7",
   "metadata": {},
   "outputs": [],
   "source": [
    "# Q-8 Write a Python program to remove duplicates from a list.\n",
    "def Remove(duplicate):\n",
    "    final_list = []\n",
    "    for num in duplicate:\n",
    "        if num not in final_list:\n",
    "            final_list.append(num)\n",
    "    return final_list\n",
    "     \n",
    "# Driver Code\n",
    "duplicate = input()\n",
    "print(Remove(duplicate))"
   ]
  },
  {
   "cell_type": "code",
   "execution_count": null,
   "id": "4c4cffa8",
   "metadata": {},
   "outputs": [],
   "source": [
    "# Q-9 Write a Python program to check a list is empty or not.\n",
    "def Enquiry(lis1):\n",
    "    if len(lis1) == 0:\n",
    "        return 0\n",
    "    else:\n",
    "        return 1\n",
    "\n",
    "lis1 = input()\n",
    "if Enquiry(lis1):\n",
    "    print(\"The list is not empty\")\n",
    "else:\n",
    "    print(\"Empty List\")"
   ]
  },
  {
   "cell_type": "code",
   "execution_count": null,
   "id": "27cc1d01",
   "metadata": {},
   "outputs": [],
   "source": [
    "# Q-10 Write a Python function that takes two lists and returns true if they have \n",
    "# at least one common member.\n",
    "def common_data(list1, list2):  \n",
    "    result = True\n",
    "    for x in list1:  \n",
    "        for y in list2:  \n",
    "            if x == y: \n",
    "                result = True\n",
    "                return result\n",
    "            \n",
    "print(common_data([1,2,3,4,5], [5,6,7,8,9]))  \n",
    "print(common_data([1,2,3,4,5], [6,7,8,9])) \n"
   ]
  },
  {
   "cell_type": "code",
   "execution_count": null,
   "id": "9819a345",
   "metadata": {},
   "outputs": [],
   "source": [
    "# Q-11 Write a Python program to generate and print a list of first and last 5 \n",
    "#  elements where the values are square of numbers between 1 and 30.\n",
    "def printValues():\n",
    "    l = list()\n",
    "    for i in range(1,21):\n",
    "        l.append(i**2)\n",
    "    print(l[:5])\n",
    "    print(l[-5:])\n",
    "\n",
    "printValues()\n",
    "\n"
   ]
  },
  {
   "cell_type": "code",
   "execution_count": null,
   "id": "2ccc49fb",
   "metadata": {},
   "outputs": [],
   "source": [
    "# Q-12 Write a Python function that takes a list and returns a new list with unique \n",
    "# elements of the first list.\n",
    "def unique_list(numbers):\n",
    "    unique = []\n",
    "    for item in numbers :\n",
    "        if item not in unique:\n",
    "            unique.append(item)\n",
    "    return unique\n",
    "\n",
    "print(unique_list([1, 2, 3, 1, 2, 3, 4]))"
   ]
  },
  {
   "cell_type": "code",
   "execution_count": null,
   "id": "8f46873c",
   "metadata": {},
   "outputs": [],
   "source": [
    "# Q-13 Write a Python program to convert a list of characters into a string.\n",
    "def convert(s):\n",
    "    \n",
    "    new = \"\"\n",
    " \n",
    "    for x in s:\n",
    "        new += x\n",
    " \n",
    "    return new\n",
    "     \n",
    "s = ['i ','a','m ','v','i','v','e','k']\n",
    "print(convert(s))"
   ]
  },
  {
   "cell_type": "code",
   "execution_count": null,
   "id": "d17b2e8e",
   "metadata": {},
   "outputs": [],
   "source": [
    "# Q-14 Write a Python program to select an item randomly from a list.\n",
    "import random\n",
    "color_list = ['Red', 'Blue', 'Green', 'White', 'Black']\n",
    "print(random.choice(color_list))"
   ]
  },
  {
   "cell_type": "code",
   "execution_count": null,
   "id": "05e05ff0",
   "metadata": {},
   "outputs": [],
   "source": [
    "# Q-15 Write a Python program to find the second smallest number in a list.\n",
    "def second_smallest(numbers):\n",
    "    if (len(numbers)<2):\n",
    "        return\n",
    "    if ((len(numbers)==2)  and (numbers[0] == numbers[1]) ):\n",
    "        return\n",
    "    dup_items = set()\n",
    "    uniq_items = []\n",
    "    for x in numbers:\n",
    "        if x not in dup_items:\n",
    "            uniq_items.append(x)\n",
    "            dup_items.add(x)\n",
    "            uniq_items.sort()    \n",
    "    return  uniq_items[1]   \n",
    "\n",
    "print(second_smallest([1, 2, -8, -2, 0, -2]))\n",
    "print(second_smallest([1, 1, 0, 0, 2, -2, -2]))\n",
    "print(second_smallest([1, 1, 1, 0, 0, 0, 2, -2, -2]))\n",
    "print(second_smallest([2,2]))\n",
    "print(second_smallest([2]))"
   ]
  },
  {
   "cell_type": "code",
   "execution_count": null,
   "id": "f092acbb",
   "metadata": {},
   "outputs": [],
   "source": [
    "# Q-16  Write a Python program to get unique values from a list.\n",
    "list_inp = [100, 75, 100, 20, 75, 12, 12, 75, 25] \n",
    "\n",
    "set_res = set(list_inp) \n",
    "print(\"The unique elements of the input list using set():\\n\") \n",
    "list_res = (list(set_res))\n",
    " \n",
    "for item in list_res: \n",
    "    print(item)"
   ]
  },
  {
   "cell_type": "code",
   "execution_count": null,
   "id": "c755d8c2",
   "metadata": {},
   "outputs": [],
   "source": [
    "# Q-17 Write a Python program to check whether a list contains a sub list.\n",
    "test_list = [5, 6, 3, 8, 2, 1, 7, 1]\n",
    " \n",
    "print(\"The original list : \" + str(test_list))\n",
    " \n",
    "sublist = [3,8, 2, 1]\n",
    " \n",
    "res = any(test_list[idx : idx + len(sublist)] == sublist\n",
    "        for idx in range(len(test_list) - len(sublist) + 1))\n",
    "         \n",
    "# printing result\n",
    "print(\"Is sublist present in list ? : \" + str(res))"
   ]
  },
  {
   "cell_type": "code",
   "execution_count": null,
   "id": "470858bd",
   "metadata": {},
   "outputs": [],
   "source": [
    "# Q-18 Write a Python program to split a list into different variables.\n",
    "test_list = [1, 4, 5, 6, 4, 5, 6, 5, 4]\n",
    "  \n",
    "print(\"The original list : \" + str(test_list))\n",
    "  \n",
    "size = len(test_list)\n",
    "idx_list = [idx + 1 for idx, val in\n",
    "            enumerate(test_list) if val == 5]\n",
    "res = [test_list[i: j] for i, j in\n",
    "        zip([0] + idx_list, idx_list + \n",
    "        ([size] if idx_list[-1] != size else []))]\n",
    "  \n",
    "# print result\n",
    "print(\"The list after splitting by a value : \" + str(res))"
   ]
  },
  {
   "cell_type": "code",
   "execution_count": null,
   "id": "4d2e9a5a",
   "metadata": {},
   "outputs": [],
   "source": [
    "# Q-19 What is tuple? Difference between list and tuple.\n",
    "# A - Tuples are used to store multiple items in a single variable.\n",
    "#     Tuple items are ordered, unchangeable, and allow duplicate values.\n",
    "\n",
    "#          List                                   Tuple  \n",
    "\n",
    "#     List is mutable.                      Tuple is immutable.\n",
    "\n",
    "#    List iteration is slower and is        Tuple iteration is faster.\n",
    "#    time consuming.\n",
    "\n",
    "#    List is useful for insertion and       Tuple is useful for readonly\n",
    "#    deletion operations.                   operations like accessing elements.\n",
    "\n",
    "#    List consumes more memory.             Tuples consumes less memory."
   ]
  },
  {
   "cell_type": "code",
   "execution_count": null,
   "id": "7742a96e",
   "metadata": {},
   "outputs": [],
   "source": [
    "# Q-20 Write a Python program to create a tuple with different data types.\n",
    "\n",
    "tuplex = (\"tuple\", False, 3.2, 1)\n",
    "print(tuplex)\n"
   ]
  },
  {
   "cell_type": "code",
   "execution_count": null,
   "id": "5d619111",
   "metadata": {},
   "outputs": [],
   "source": [
    "# Q-21 Write a Python program to create a tuple with numbers.\n",
    "nTuple = 22,\n",
    "print(\"Tuple Items = \", nTuple)\n",
    "\n",
    "numTuple = (10, 20, 40, 60, 80, 100)\n",
    "print(\"Tuple Items = \", numTuple)"
   ]
  },
  {
   "cell_type": "code",
   "execution_count": null,
   "id": "98339097",
   "metadata": {},
   "outputs": [],
   "source": [
    "# Q-22 Write a Python program to convert a tuple to a string.\n",
    "def convertTuple(tup):\n",
    "        # initialize an empty string\n",
    "    str = ''\n",
    "    for item in tup:\n",
    "        str = str + item\n",
    "    return str\n",
    " \n",
    "tuple = ('i ','a','m ','v','i','v','e','k')\n",
    "str = convertTuple(tuple)\n",
    "print(str)"
   ]
  },
  {
   "cell_type": "code",
   "execution_count": null,
   "id": "0877d772",
   "metadata": {},
   "outputs": [],
   "source": [
    "# Q-23 Write a Python program to check whether an element exists within a tuple.\n",
    "tuplex = (\"v\", \"i\", \"v\", \"e\", \"k\", 5, 6, 7)\n",
    "print(\"i\" in tuplex)\n",
    "print(5 in tuplex)"
   ]
  },
  {
   "cell_type": "code",
   "execution_count": null,
   "id": "0a7cf77f",
   "metadata": {},
   "outputs": [],
   "source": [
    "# Q-24 Write a Python program to find the length of a tuple.\n",
    "tupleObject = ('v', 'i', 'v', 'e','k')\n",
    "length = len(tupleObject)\n",
    "print(f'Length of this tuple is {length}.')"
   ]
  },
  {
   "cell_type": "code",
   "execution_count": null,
   "id": "78403305",
   "metadata": {},
   "outputs": [],
   "source": [
    "# Q-25 Write a Python program to convert a list to a tuple.\n",
    "def convert(list):\n",
    "    return tuple(i for i in list)\n",
    "  \n",
    "# Driver function\n",
    "list = [1, 2, 3, 4]\n",
    "print(convert(list))"
   ]
  },
  {
   "cell_type": "code",
   "execution_count": null,
   "id": "cb054a73",
   "metadata": {},
   "outputs": [],
   "source": [
    "# Q-26  Write a Python program to reverse a tuple.\n",
    "def Reverse(tuples):\n",
    "    new_tup = tuples[::-1]\n",
    "    return new_tup\n",
    "      \n",
    "# Driver Code\n",
    "tuples = ('y', 'k', 'c', 'i', 'v')\n",
    "print(Reverse(tuples))"
   ]
  },
  {
   "cell_type": "code",
   "execution_count": null,
   "id": "9a33fe30",
   "metadata": {},
   "outputs": [],
   "source": [
    "# Q-27  Write a Python program to replace last value of tuples in a list.\n",
    "test_list = [('vivek', 1), ('was', 2), ('best', 3)]\n",
    "print(\"The original list is : \" + str(test_list))\n",
    "repl_rec = ('is', 2)\n",
    "N = 1\n",
    "res = [repl_rec if sub[N] == repl_rec[N] else sub for sub in test_list]\n",
    "print(\"The tuple after replacement is : \" + str(res))"
   ]
  },
  {
   "cell_type": "code",
   "execution_count": null,
   "id": "9ab92315",
   "metadata": {},
   "outputs": [],
   "source": [
    "# Q-28  Write a Python program to find the repeated items of a tuple.\n",
    "tuplex = 2, 4, 5, 6, 2, 3, 4, 4, 7 \n",
    "print(tuplex)\n",
    "count = tuplex.count(4)\n",
    "print(count)\n"
   ]
  },
  {
   "cell_type": "code",
   "execution_count": null,
   "id": "0b2e0d1d",
   "metadata": {},
   "outputs": [],
   "source": [
    "# Q-29 Write a Python program to remove an empty tuple(s) from a list of tuples.\n",
    "def Remove(tuples):\n",
    "    tuples = [t for t in tuples if t]\n",
    "    return tuples\n",
    "tuples = [(), ('vivek','15','8'), (),('krishna', 'vicky', '45'), ('',''),()]\n",
    "          \n",
    "print(Remove(tuples))"
   ]
  },
  {
   "cell_type": "code",
   "execution_count": null,
   "id": "076529d6",
   "metadata": {},
   "outputs": [],
   "source": [
    "# Q-30 Write a Python program to unzip a list of tuples into individual lists.\n",
    "l = [(1,2), (3,4), (8,9)]\n",
    "print(list(zip(*l)))"
   ]
  },
  {
   "cell_type": "code",
   "execution_count": null,
   "id": "017c03e2",
   "metadata": {},
   "outputs": [],
   "source": [
    "# Q-31 Write a Python program to convert a list of tuples into a dictionary.\n",
    "def Convert(tup, di):\n",
    "    for a, b in tup:\n",
    "        di.setdefault(a, []).append(b)\n",
    "    return di\n",
    "      \n",
    "# Driver Code    \n",
    "tups = [('A', 1), ('B', 2), ('C', 3)]\n",
    "dictionary = {}\n",
    "print (Convert(tups, dictionary))"
   ]
  },
  {
   "cell_type": "code",
   "execution_count": null,
   "id": "baa23c76",
   "metadata": {},
   "outputs": [],
   "source": [
    "# Q-32 How will you create a dictionary using tuples in python?\n",
    "data = ((24, \"bobby\"), (21, \"ojsawi\"))\n",
    "\n",
    "final = dict((value, key) for key, value in data)\n",
    "\n",
    "print(final)"
   ]
  },
  {
   "cell_type": "code",
   "execution_count": null,
   "id": "556d9601",
   "metadata": {},
   "outputs": [],
   "source": [
    "# Q-33 Write a Python script to sort (ascending and descending) a dictionary by value.\n",
    "def sort_dict_by_value(d, reverse = False):\n",
    "    return dict(sorted(d.items(), key = lambda x: x[1], reverse = reverse))\n",
    "print(\"Original dictionary elements:\")\n",
    "colors = {'Red': 1, 'Green': 3, 'Black': 5, 'White': 2, 'Pink': 4}\n",
    "print(colors)\n",
    "print(\"\\nSort (ascending) the said dictionary elements by value:\")\n",
    "print(sort_dict_by_value(colors))\n",
    "print(\"\\nSort (descending) the said dictionary elements by value:\")\n",
    "print(sort_dict_by_value(colors, True))\n"
   ]
  },
  {
   "cell_type": "code",
   "execution_count": null,
   "id": "9ed9ba1b",
   "metadata": {},
   "outputs": [],
   "source": [
    "# Q-34 Write a Python script to concatenate following dictionaries to create a new one.\n",
    "dic1={1:10, 2:20}\n",
    "dic2={3:30, 4:40}\n",
    "dic3={5:50,6:60}\n",
    "dic4 = {}\n",
    "for d in (dic1, dic2, dic3): dic4.update(d)\n",
    "print(dic4)"
   ]
  },
  {
   "cell_type": "code",
   "execution_count": null,
   "id": "7738a058",
   "metadata": {},
   "outputs": [],
   "source": [
    "# Q-35 Write a Python script to check if a given key already exists in a dictionary.\n",
    "d = {1: 10, 2: 20, 3: 30, 4: 40, 5: 50, 6: 60}\n",
    "def is_key_present(x):\n",
    "    if x in d:\n",
    "        print('Key is present in the dictionary')\n",
    "    else:\n",
    "        print('Key is not present in the dictionary')\n",
    "is_key_present(5)\n",
    "is_key_present(9)\n"
   ]
  },
  {
   "cell_type": "code",
   "execution_count": null,
   "id": "02686c39",
   "metadata": {},
   "outputs": [],
   "source": [
    "# Q-36 How Do You Traverse Through A Dictionary Object In Python?\n",
    "# A-  we can use dictionary keys()method or use a loops ,or other dictionary method like items(),values()"
   ]
  },
  {
   "cell_type": "code",
   "execution_count": null,
   "id": "49c70497",
   "metadata": {},
   "outputs": [],
   "source": [
    "# Q-37  How Do You Check The Presence Of A Key In A Dictionary?\n",
    "key_input = input()\n",
    "dict_1 = {'a' : 10 ,'b' : 20, 'c' : 5, 'd' :8, 'e' : 3}\n",
    "\n",
    "if key_input in dict_1 :\n",
    "    print(key_input, 'key is presence')\n",
    "else :\n",
    "    print(key_input, 'key is not presence')"
   ]
  },
  {
   "cell_type": "code",
   "execution_count": null,
   "id": "99dd672b",
   "metadata": {},
   "outputs": [],
   "source": [
    "# Q-38 Write a Python script to print a dictionary where the keys are numbers between 1 and 15.\n",
    "dict1 = {}\n",
    "dict1 = dict1.fromkeys((range(1,16)),10)\n",
    "print(dict1)"
   ]
  },
  {
   "cell_type": "code",
   "execution_count": null,
   "id": "70e1e9d8",
   "metadata": {},
   "outputs": [],
   "source": [
    "# Q-39 Write a Python program to check multiple keys exists in a dictionary. \n",
    "\n",
    "d1 = {'a':1,'b':2,'c':3,'d':4}\n",
    "l1 = []\n",
    "\n",
    "for i in d1:\n",
    "    l1 += i,\n",
    "if len(l1) > 1 :\n",
    "    print('d1 exists multiple keys')\n",
    "else :\n",
    "    print('d1 exists onley one key')\n",
    "    "
   ]
  },
  {
   "cell_type": "code",
   "execution_count": null,
   "id": "05370e00",
   "metadata": {},
   "outputs": [],
   "source": [
    "# Q-40 Write a Python script to merge two Python dictionaries.\n",
    "d1 = {'a':1,'b':2}\n",
    "d2 = {'c':3,'d':4}\n",
    "d1.update(d2)\n",
    "print(d1)"
   ]
  },
  {
   "cell_type": "code",
   "execution_count": null,
   "id": "80cb7673",
   "metadata": {},
   "outputs": [],
   "source": [
    "# Q-41 Write a Python program to map two lists into a dictionary.\n",
    "l1 = [1,2,3,6,4,5]\n",
    "l2 = [1,2,3,4,5,6]\n",
    "dict = {}\n",
    "\n",
    "for i in l1 :\n",
    "    a = {}\n",
    "    for j in l2 :\n",
    "        pass\n",
    "    a.setdefault(i,j)\n",
    "    dict.update(a)\n",
    "print(dict)"
   ]
  },
  {
   "cell_type": "code",
   "execution_count": null,
   "id": "b9142e6a",
   "metadata": {},
   "outputs": [],
   "source": [
    "# Q-42 Write a Python program to combine two dictionary adding values for common keys.\n",
    "#  d1 = {'a': 100, 'b': 200, 'c':300}\n",
    "#  d2 = {'a': 300, 'b': 200,’d’:400}\n",
    "# Sample output: Counter ({'a': 400, 'b': 400,’d’: 400, 'c': 300}).\n",
    "\n",
    "d1 = {'a': 100, 'b': 200, 'c':300}\n",
    "d2 = {'a': 300, 'b': 200,'d':400}\n",
    "d3 = {}\n",
    "\n",
    "for i in d1 :\n",
    "    if i in d2:\n",
    "        sum_val = d1[i] + d2[i]\n",
    "        d3.setdefault(i,sum_val)\n",
    "    else :\n",
    "        d3.setdefault(i,d1[i])\n",
    "for i in d2 :\n",
    "    if i in d1:\n",
    "        pass\n",
    "    else :\n",
    "        d3.setdefault(i,d2[i])        \n",
    "print(d3)"
   ]
  },
  {
   "cell_type": "code",
   "execution_count": null,
   "id": "8fb8673d",
   "metadata": {},
   "outputs": [],
   "source": [
    "# Q-43 Write a Python program to print all unique values in a dictionary.\n",
    "d1 = {'a': 100, 'b': 200, 'c':300, 'd':100}\n",
    "list_1 = []\n",
    "unique_value = []\n",
    "\n",
    "for i in d1:\n",
    "    a += d1.get(i),\n",
    "for b in a :\n",
    "    if b not in unique_value :\n",
    "        unique_value.append(b)\n",
    "print(unique_value)"
   ]
  },
  {
   "cell_type": "code",
   "execution_count": null,
   "id": "46e4b2c0",
   "metadata": {},
   "outputs": [],
   "source": [
    "# Q-44 Why Do You Use the Zip () Method in Python?\n",
    "# A- To combine a value in one veriable , this value data type is tuple."
   ]
  },
  {
   "cell_type": "code",
   "execution_count": null,
   "id": "1f56d899",
   "metadata": {},
   "outputs": [],
   "source": [
    "# Q-45 Write a Python program to create and display all combinations of letters,selecting each letter from \n",
    "# a different key in a dictionary.\n",
    "#  Sample data: {'1': ['a','b'], '2': ['c','d']}\n",
    "#  Expected Output:\n",
    "#  ac ad bc bd\n",
    "#A-\n",
    "\n",
    "dict = {'1': ['a','b'], '2': ['c','d']}\n",
    "list1 = []\n",
    "list2 = []\n",
    "str1 = ''\n",
    "\n",
    "list1 = dict.get('1')\n",
    "list2 = dict.get('2')\n",
    "\n",
    "for i in list1 :\n",
    "    str1 = i\n",
    "    str2 = ''\n",
    "    for k in list2 :\n",
    "        str2 = str1 + k\n",
    "        print(str2)\n",
    "        "
   ]
  },
  {
   "cell_type": "code",
   "execution_count": null,
   "id": "fee97fe6",
   "metadata": {},
   "outputs": [],
   "source": [
    "# Q-46 Write a Python program to find the highest 3 values in a dictionary.\n",
    "#A-\n",
    "\n",
    "dict1 = {'a':50, 'b':30, 'c':40, 'd':60, 'e':100, 'f':'abhi', 'g':101, 'h':[1,2,5]}\n",
    "a = []\n",
    "for i in dict1:\n",
    "    if type(dict1.get(i))  == int:\n",
    "        a += dict1.get(i),\n",
    "a.sort()\n",
    "print(a[-1:-4:-1])"
   ]
  },
  {
   "cell_type": "code",
   "execution_count": null,
   "id": "59bdcf23",
   "metadata": {},
   "outputs": [],
   "source": [
    "# Q-47 Write a Python program to combine values in python list of dictionaries. \n",
    "# Sample data: [{'item': 'item1', 'amount': 400}, {'item': 'item2', 'amount': 300},\n",
    "#  {'item': 'item1', 'amount': 750}]\n",
    "#  Expected Output: Counter ({'item1': 1150, 'item2': 300})\n",
    "#A-\n",
    " \n",
    "big_list = [{'item': 'item1', 'amount': 400}, {'item': 'item2', 'amount': 300}]\n",
    "dict = {}\n",
    "dict1 = {}\n",
    "\n",
    "for i in big_list :\n",
    "    dict1.update(i)\n",
    "    list1 = []\n",
    "    for k in dict1:\n",
    "        list1 += dict1.get(k),\n",
    "    l1 = list1[:(len(list1)//2)]\n",
    "    l2 = list1[(len(list1)//2):]\n",
    "    for i in l1 :\n",
    "        a = {}\n",
    "        for j in l2 :\n",
    "            pass\n",
    "        a.setdefault(i,j)\n",
    "        dict.update(a)\n",
    "print(dict)"
   ]
  },
  {
   "cell_type": "code",
   "execution_count": null,
   "id": "d5167fdb",
   "metadata": {},
   "outputs": [],
   "source": [
    "# Q-48 Write a Python program to create a dictionary from a string.Note: Track the count of the letters from the string.\n",
    "#Sample string:'w3resource'\n",
    "# o Expected output: {'3': 1,’s’: 1, 'r': 2, 'u': 1, 'w': 1, 'c': 1, 'e': 2, 'o': 1}\n",
    "#A-\n",
    "\n",
    "str1 = 'w3resource'\n",
    "dict1 = {}\n",
    "\n",
    "for i in str1:\n",
    "    dict1.setdefault(i,1)\n",
    "print(dict1)\n",
    "    "
   ]
  },
  {
   "cell_type": "code",
   "execution_count": null,
   "id": "2839d531",
   "metadata": {},
   "outputs": [],
   "source": [
    "# Q-49 Write a Python function to calculate the factorial of a number (a nonnegative integer)\n",
    "#A-\n",
    "\n",
    "def factorial(x) :\n",
    "    if x <= 1 :\n",
    "        return (1)\n",
    "    else:\n",
    "        return (x * factorial(x-1))\n",
    "factorial(4)"
   ]
  },
  {
   "cell_type": "code",
   "execution_count": null,
   "id": "ef681000",
   "metadata": {},
   "outputs": [],
   "source": [
    "# Q-50 Write a Python function to check whether a number is in a given range\n",
    "#A-\n",
    "\n",
    "input_num = int(input())\n",
    "def num_check(x):\n",
    "    if x in range(1,101):\n",
    "        return 'number is in the range'\n",
    "    else :\n",
    "        return 'number is not in the range'\n",
    "num_check(input_num)"
   ]
  },
  {
   "cell_type": "code",
   "execution_count": null,
   "id": "2c1defb8",
   "metadata": {},
   "outputs": [],
   "source": [
    "# Q-51 Write a Python function to check whether a number is perfect or not.\n",
    "#A-\n",
    "\n",
    "def num (x):\n",
    "    if type(x) == int:\n",
    "        return 'number is perfect'\n",
    "    else :\n",
    "        return 'number is not perfect'\n",
    "num(-1)"
   ]
  },
  {
   "cell_type": "code",
   "execution_count": null,
   "id": "7b83c47f",
   "metadata": {},
   "outputs": [],
   "source": [
    "# Q-52 Write a Python function that checks whether a passed string is palindrome or not\n",
    "#A-\n",
    "\n",
    "def str_check (x):\n",
    "    if x[::] == x [-1::-1]:\n",
    "        return 'string is palindrome string'\n",
    "    else :\n",
    "        return 'string is not palindrome string'\n",
    "\n",
    "str_check('viciv')"
   ]
  },
  {
   "cell_type": "code",
   "execution_count": null,
   "id": "c548fd8d",
   "metadata": {},
   "outputs": [],
   "source": [
    "# Q-53 How do you perform pattern matching in Python? Explain\n",
    "#A- we can match pattern useing with  conditional statements.\n",
    "    "
   ]
  },
  {
   "cell_type": "code",
   "execution_count": null,
   "id": "d07ca8a3",
   "metadata": {},
   "outputs": [],
   "source": [
    "# Q-54 What is lambda function in python? What we call a function which is incomplete version of a function?\n",
    "#A- lambda function is multtple perameters but single expression return."
   ]
  },
  {
   "cell_type": "code",
   "execution_count": null,
   "id": "a9024970",
   "metadata": {},
   "outputs": [],
   "source": [
    "# Q-55 How Many Basic Types Of Functions Are Available In Python?\n",
    "#A-\n",
    "#     There are three basic types of functions \n",
    "#     (1) built_in function\n",
    "#     (2) user difined\n",
    "#     (3) anonymous"
   ]
  },
  {
   "cell_type": "code",
   "execution_count": null,
   "id": "0d709f3c",
   "metadata": {},
   "outputs": [],
   "source": [
    "# Q-56 How can you pick a random item from a list or tuple?\n",
    "#A- import rendom function and use  rendom.choice()  metode."
   ]
  },
  {
   "cell_type": "code",
   "execution_count": null,
   "id": "00462e13",
   "metadata": {},
   "outputs": [],
   "source": [
    "# Q-57 How can you pick a random item from a range?\n",
    "#A- import rendom function and use rendrange() method."
   ]
  },
  {
   "cell_type": "code",
   "execution_count": null,
   "id": "95a7d1ab",
   "metadata": {},
   "outputs": [],
   "source": [
    "# Q-58 How can you get a random number in python?\n",
    "#A-  we can a rendom number use with rendint() method."
   ]
  },
  {
   "cell_type": "code",
   "execution_count": null,
   "id": "ab1c7e0b",
   "metadata": {},
   "outputs": [],
   "source": [
    "# Q-59 How will you set the starting value in generating random numbers?\n",
    "#A- import rendom function and use seed() method."
   ]
  },
  {
   "cell_type": "code",
   "execution_count": null,
   "id": "2e35220e",
   "metadata": {},
   "outputs": [],
   "source": [
    "# Q-60 How will you randomizes the items of a list in place?\n",
    "#A-  we could randomizes the items use of shuffle() method."
   ]
  },
  {
   "cell_type": "code",
   "execution_count": null,
   "id": "671de5ce",
   "metadata": {},
   "outputs": [],
   "source": [
    "# Q-61 Write a Python program to read a random line from a file.\n",
    "import random\n",
    "def random_line(fname):\n",
    "    lines = open(fname).read().splitlines()\n",
    "    return random.choice(lines)\n",
    "print(random_line('test.txt'))\n"
   ]
  },
  {
   "cell_type": "code",
   "execution_count": 1,
   "id": "a62d7910",
   "metadata": {},
   "outputs": [
    {
     "name": "stdout",
     "output_type": "stream",
     "text": [
      "180 / pi Degrees is equal to Radians : 1.0\n",
      "180 Degrees is equal to Radians : 3.141592653589793\n",
      "1 Degrees is equal to Radians : 0.017453292519943295\n"
     ]
    }
   ],
   "source": [
    "# Q-62 Write a Python program to convert degree to radian\n",
    "\n",
    "import math\n",
    "\n",
    "print(\"180 / pi Degrees is equal to Radians : \", end =\"\")\n",
    "print (math.radians(180 / math.pi))\n",
    "\n",
    "print(\"180 Degrees is equal to Radians : \", end =\"\")\n",
    "print (math.radians(180))\n",
    "\n",
    "print(\"1 Degrees is equal to Radians : \", end =\"\")\n",
    "print (math.radians(1))\n"
   ]
  }
 ],
 "metadata": {
  "kernelspec": {
   "display_name": "Python 3 (ipykernel)",
   "language": "python",
   "name": "python3"
  },
  "language_info": {
   "codemirror_mode": {
    "name": "ipython",
    "version": 3
   },
   "file_extension": ".py",
   "mimetype": "text/x-python",
   "name": "python",
   "nbconvert_exporter": "python",
   "pygments_lexer": "ipython3",
   "version": "3.9.12"
  }
 },
 "nbformat": 4,
 "nbformat_minor": 5
}
