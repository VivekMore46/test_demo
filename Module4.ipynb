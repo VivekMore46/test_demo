{
 "cells": [
  {
   "cell_type": "code",
   "execution_count": null,
   "id": "304f91a1",
   "metadata": {},
   "outputs": [],
   "source": [
    "# Q. 1 What is File function in python? What is keywords to create and write file.\n",
    "# A-  to create\n",
    "#     open('vivek.txt','x')\n",
    "#     to write\n",
    "#     open('vivek.txt','w')"
   ]
  },
  {
   "cell_type": "code",
   "execution_count": null,
   "id": "05976d4e",
   "metadata": {},
   "outputs": [],
   "source": [
    "# Q. 2 Write a Python program to read an entire text file.\n",
    "# A-\n",
    "f = open(\"vivek.txt\",\"r\")\n",
    "print(f.read())"
   ]
  },
  {
   "cell_type": "code",
   "execution_count": null,
   "id": "9b7b6e43",
   "metadata": {},
   "outputs": [],
   "source": [
    "# Q. 3 Write a Python program to append text to a file and display the text.\n",
    "# A-\n",
    "\n",
    "with open('vivek.txt','a') as file_1:\n",
    "    file_1.write('i am vivek. /n I Like super car')\n",
    "with open('vivek.txt','r')as file_1:\n",
    "    print(file_1.read())"
   ]
  },
  {
   "cell_type": "code",
   "execution_count": null,
   "id": "ff5abfa5",
   "metadata": {},
   "outputs": [],
   "source": [
    "# Q. 4 Write a Python program to read first n lines of a file.\n",
    "# A-\n",
    "with open ('vivek.txt','r') as f1 :\n",
    "    print(f1.readlines())"
   ]
  },
  {
   "cell_type": "code",
   "execution_count": null,
   "id": "22dd9028",
   "metadata": {},
   "outputs": [],
   "source": [
    "# Q. 5 Write a Python program to read last n lines of a file.\n",
    "# A-\n",
    "N = 1\n",
    "with open ('vivek.txt','r') as file :\n",
    "    for line in (file.readlines() [-N:]):\n",
    "        print(line, end ='')\n",
    "        break"
   ]
  },
  {
   "cell_type": "code",
   "execution_count": null,
   "id": "6dbb446b",
   "metadata": {},
   "outputs": [],
   "source": [
    "# Q. 6 Write a Python program to read a file line by line and store it into a list\n",
    "# A-\n",
    "with open ('vivek.txt','r') as file :\n",
    "    for line in (file.readlines()):\n",
    "        print([line])\n",
    "        "
   ]
  },
  {
   "cell_type": "code",
   "execution_count": null,
   "id": "6ae4ce5a",
   "metadata": {},
   "outputs": [],
   "source": [
    "# Q. 7 Write a Python program to read a file line by line store it into a variable.\n",
    "# A-\n",
    "var_1 = ''\n",
    "with open ('vivek.txt','r') as file :\n",
    "    for line in (file.readlines()):\n",
    "        var_1 += line\n",
    "    print(var_1)"
   ]
  },
  {
   "cell_type": "code",
   "execution_count": null,
   "id": "1020d372",
   "metadata": {},
   "outputs": [],
   "source": [
    "# Q. 8 Write a python program to find the longest words.\n",
    "# A- \n",
    "list_1 = []\n",
    "with open ('vivek.txt','r') as file :\n",
    "    words = file.read().split()\n",
    "for i in words:\n",
    "    list_1.append(len(i))\n",
    "list_1.sort()\n",
    "print(list_1[-1])"
   ]
  },
  {
   "cell_type": "code",
   "execution_count": null,
   "id": "8d8f9fa3",
   "metadata": {},
   "outputs": [],
   "source": [
    "# Q. 9 Write a Python program to count the number of lines in a text file.\n",
    "var_1 = 1\n",
    "with open ('vivek.txt','r') as file :\n",
    "    for line in (file.readlines()):\n",
    "        var_1 += 1\n",
    "    print(var_1)"
   ]
  },
  {
   "cell_type": "code",
   "execution_count": null,
   "id": "3b50c098",
   "metadata": {},
   "outputs": [],
   "source": [
    "# Q. 10 Write a Python program to count the frequency of words in a file\n",
    "with open ('vivek.txt','r') as file :\n",
    "    words = file.read().split()\n",
    "set_1 = set(words)\n",
    "for i in set_1:\n",
    "    print(i,words.count(i))"
   ]
  },
  {
   "cell_type": "code",
   "execution_count": null,
   "id": "08534369",
   "metadata": {},
   "outputs": [],
   "source": [
    "# Q. 11 Write a Python program to write a list to a file.\n",
    "# ANS. \n",
    "list_1 = []\n",
    "list_2 = []\n",
    "with open('vivek.txt','a') as file :\n",
    "    for i in list_1:\n",
    "print(file)"
   ]
  },
  {
   "cell_type": "code",
   "execution_count": null,
   "id": "322dbda9",
   "metadata": {},
   "outputs": [],
   "source": [
    "# Q. 12 Write a Python program to copy the contents of a file to another file.\n",
    "with open ('vivek.txt','w') as file :\n",
    "    a1 = file.write."
   ]
  },
  {
   "cell_type": "code",
   "execution_count": null,
   "id": "80fda449",
   "metadata": {},
   "outputs": [],
   "source": [
    "# Q. 13 Explain Exception handling? What is an Error in Python?\n",
    "# A-\n",
    "#     An Exception is an error that happens during the execution of a program.\n",
    "#     errors are the problems in a program due to which the program will stop the execution. "
   ]
  },
  {
   "cell_type": "code",
   "execution_count": null,
   "id": "a038ea1e",
   "metadata": {},
   "outputs": [],
   "source": [
    "# Q. 14 How many except statements can a try-except block have? Name Some built-in exception classes:\n",
    "# A- \n",
    "#     Try - except block have minimum 1 except statement and maximum no limit . AssertionError, AttributeError, EOFError etc... "
   ]
  },
  {
   "cell_type": "code",
   "execution_count": null,
   "id": "810e1c13",
   "metadata": {},
   "outputs": [],
   "source": [
    "# Q. 15 When will the else part of try-except-else be executed?\n",
    "# A- part like to close a file of a statement"
   ]
  },
  {
   "cell_type": "code",
   "execution_count": null,
   "id": "beb02e02",
   "metadata": {},
   "outputs": [],
   "source": [
    "# Q. 16 Can one block of except statements handle multiple exception?\n",
    "# A- no one block of except statement handle onley one exception."
   ]
  },
  {
   "cell_type": "code",
   "execution_count": null,
   "id": "2959234b",
   "metadata": {},
   "outputs": [],
   "source": [
    "# Q. 17 When is the finally block executed?\n",
    "# A- finally block is always executed after leaving the try statement."
   ]
  },
  {
   "cell_type": "code",
   "execution_count": null,
   "id": "5f4cd3ec",
   "metadata": {},
   "outputs": [],
   "source": [
    "# Q. 18 What happens when „1‟== 1 is executed?\n",
    "# A- we get False."
   ]
  },
  {
   "cell_type": "code",
   "execution_count": null,
   "id": "f80e9119",
   "metadata": {},
   "outputs": [],
   "source": [
    "# Q. 19 How Do You Handle Exceptions With Try/Except/Finally In Python? Explain with coding snippets.\n",
    "# ANS.\n",
    "# example:\n",
    "try:\n",
    "    a = int(input())\n",
    "    print(10/a)\n",
    "except ZeroDivisionError:\n",
    "    print('you have enter zero,enter non zero number')\n",
    "    a = int(input)\n",
    "    print(10/a)\n",
    "finally:\n",
    "    print(a ,'this is a')"
   ]
  },
  {
   "cell_type": "code",
   "execution_count": null,
   "id": "12f8ea38",
   "metadata": {},
   "outputs": [],
   "source": [
    "# Q. 20 Write python program that user to enter only odd numbers, else will raise an exception\n",
    "\n",
    "try:\n",
    "    n=int(input())\n",
    "    if n%2==0:\n",
    "        print(10/0)\n",
    "except:\n",
    "    print('Enter again')\n",
    "    n=int(input())\n",
    "    if n%2!=0:\n",
    "        print('odd')"
   ]
  },
  {
   "cell_type": "code",
   "execution_count": null,
   "id": "cc1e283b",
   "metadata": {},
   "outputs": [],
   "source": [
    "# Q. 21 What are oops concepts? Is multiple inheritance supported in java\n",
    "# A- Major OOP concepts in Python include Class, Object, Method, Inheritance, Polymorphism,\n",
    "#    Data Abstraction, and Encapsulation."
   ]
  },
  {
   "cell_type": "code",
   "execution_count": null,
   "id": "2db2b069",
   "metadata": {},
   "outputs": [],
   "source": [
    "# Q. 22 How to Define a Class in Python? What Is Self? Give An Example Of A Python Class\n",
    "# ANS. \n",
    "# class is define inpython use with class .\n",
    "# self points to the current instance of the class.\n",
    "# example:\n",
    "class Student:\n",
    "    school_name = 'TOPS'\n",
    "\n",
    "s1 = Student()\n",
    "s1.school_name"
   ]
  },
  {
   "cell_type": "code",
   "execution_count": null,
   "id": "03d21c4e",
   "metadata": {},
   "outputs": [],
   "source": [
    "# Q. 23 Write a Python class named Rectangle constructed by a length and width\n",
    "#       and a method which will compute the area of a rectangle.\n",
    "\n",
    "class rectangle:\n",
    "    def area(l,b):\n",
    "        print('area of rectangle =',l*b)\n",
    "\n",
    "a1=rectangle\n",
    "a1.area(5,7)"
   ]
  },
  {
   "cell_type": "code",
   "execution_count": 3,
   "id": "7d23083e",
   "metadata": {},
   "outputs": [],
   "source": [
    "# Q. 24 Write a Python class named Circle constructed by a radius and two\n",
    "#       methods which will compute the area and the perimeter of a circle."
   ]
  },
  {
   "cell_type": "code",
   "execution_count": null,
   "id": "067edf57",
   "metadata": {},
   "outputs": [],
   "source": [
    "# Q. 25 Explain Inheritance in Python with an example? What is init? Or What Is A Constructor In Python?\n",
    "# A-  Inheritance relationship defines the classes that inherit from other classes as derived, subclass, or sub-type classes.\n",
    "#     init is a megic method or dunder method .\n",
    "#     A constructor is a special type of method (function) which is used to initialize the instance members of the class."
   ]
  },
  {
   "cell_type": "code",
   "execution_count": null,
   "id": "7ae60bab",
   "metadata": {},
   "outputs": [],
   "source": [
    "# Q. 26 What is Instantiation in terms of OOP terminology? \n",
    "# A- the processes of creating a new object for a class using a new keyword."
   ]
  },
  {
   "cell_type": "code",
   "execution_count": null,
   "id": "85af987f",
   "metadata": {},
   "outputs": [],
   "source": [
    "# Q. 27 What is used to check whether an object o is an instance of class A?\n",
    "# A- The isinstance () method checks whether an object is an instance of \n",
    "#    a class whereas issubclass () method asks whether one class is a subclass of another class (or other classes)."
   ]
  },
  {
   "cell_type": "code",
   "execution_count": null,
   "id": "3558969b",
   "metadata": {},
   "outputs": [],
   "source": [
    "# Q. 28 What relationship is appropriate for Course and Faculty?"
   ]
  },
  {
   "cell_type": "code",
   "execution_count": null,
   "id": "d31d54a1",
   "metadata": {},
   "outputs": [],
   "source": [
    "# Q. 29 What relationship is appropriate for Student and Person?"
   ]
  },
  {
   "cell_type": "code",
   "execution_count": null,
   "id": "9b35e599",
   "metadata": {},
   "outputs": [],
   "source": []
  }
 ],
 "metadata": {
  "kernelspec": {
   "display_name": "Python 3 (ipykernel)",
   "language": "python",
   "name": "python3"
  },
  "language_info": {
   "codemirror_mode": {
    "name": "ipython",
    "version": 3
   },
   "file_extension": ".py",
   "mimetype": "text/x-python",
   "name": "python",
   "nbconvert_exporter": "python",
   "pygments_lexer": "ipython3",
   "version": "3.9.12"
  }
 },
 "nbformat": 4,
 "nbformat_minor": 5
}
